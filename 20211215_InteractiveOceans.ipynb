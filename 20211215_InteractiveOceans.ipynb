{
 "cells": [
  {
   "cell_type": "markdown",
   "id": "53929607",
   "metadata": {
    "slideshow": {
     "slide_type": "slide"
    }
   },
   "source": [
    "<center><img src=\"./images/ooi-rsn-logo.png\" alt=\"OOI Logo\" id=\"ooi-logo\"></center>\n",
    "\n",
    "<h1 align=\"center\">Interactive Oceans Data Portal</h1>\n",
    "<h3 align=\"center\">Open data, open access, open science</h3>"
   ]
  },
  {
   "cell_type": "markdown",
   "id": "4c0322e8",
   "metadata": {
    "slideshow": {
     "slide_type": "-"
    }
   },
   "source": [
    "<h4 align=\"center\">Don Setiawan | <i class=\"fa fa-github\" aria-hidden=\"true\"></i> lsetiawan\n",
    "<br>\n",
    "<br>\n",
    "University of Washington\n",
    "</h4>"
   ]
  },
  {
   "cell_type": "markdown",
   "id": "eb8bce50",
   "metadata": {
    "slideshow": {
     "slide_type": "slide"
    }
   },
   "source": [
    "## What is it?\n",
    "\n",
    "The InteractiveOceans Data Portal is an interface designed to enable scientists, educators, and students to quickly locate and plot cabled, real-time Ocean Observatories Initiative (OOI) data produced by the Regional Cabled Array (RCA)."
   ]
  },
  {
   "cell_type": "markdown",
   "id": "9255c36c",
   "metadata": {
    "slideshow": {
     "slide_type": "slide"
    }
   },
   "source": [
    "## Our goals\n",
    "\n",
    "1. to increase active use of RCA data by scientists and to support educators and public exploration of data in the future;\n"
   ]
  },
  {
   "cell_type": "markdown",
   "id": "657d7f6a",
   "metadata": {
    "slideshow": {
     "slide_type": "fragment"
    }
   },
   "source": [
    "2. to provide additional tools for scientists to discover, access, visualize, and use RCA data sets suitable for addressing specific science hypotheses;"
   ]
  },
  {
   "cell_type": "markdown",
   "id": "c13fcf8a",
   "metadata": {
    "slideshow": {
     "slide_type": "fragment"
    }
   },
   "source": [
    "3. to provide an intuitive, user-friendly data search and visualization interface, coupled with a convenient data downloading scheme;\n"
   ]
  },
  {
   "cell_type": "markdown",
   "id": "33660437",
   "metadata": {
    "slideshow": {
     "slide_type": "fragment"
    }
   },
   "source": [
    "4. to accelerate research output and engage a broader user base for OOI data. The dashboard provides advanced search capabilities and links to data visualization tools to quickly create plots of various types for streaming data."
   ]
  },
  {
   "cell_type": "markdown",
   "id": "a7df2789",
   "metadata": {
    "slideshow": {
     "slide_type": "slide"
    }
   },
   "source": [
    "<h1><center>Let's check it out!</center></h1>"
   ]
  },
  {
   "cell_type": "markdown",
   "id": "fecbc810",
   "metadata": {
    "slideshow": {
     "slide_type": "slide"
    }
   },
   "source": [
    "<img src=\"./images/io2portal/Screen Shot 2021-12-09 at 16.59.23.png\" class=\"io-image\"/>"
   ]
  },
  {
   "cell_type": "markdown",
   "id": "11d6b147",
   "metadata": {
    "slideshow": {
     "slide_type": "slide"
    }
   },
   "source": [
    "<h3 align=\"center\">Interactive Map Application</h3>\n",
    "<img src=\"./images/io2portal/Screen Shot 2021-12-09 at 16.59.30.png\" class=\"io-image\"/>"
   ]
  },
  {
   "cell_type": "markdown",
   "id": "091a87f5",
   "metadata": {
    "slideshow": {
     "slide_type": "subslide"
    }
   },
   "source": [
    "<img src=\"./images/io2portal/Screen Shot 2021-12-09 at 17.00.18.png\" class=\"io-image\"/>"
   ]
  },
  {
   "cell_type": "markdown",
   "id": "45a4cc19",
   "metadata": {
    "slideshow": {
     "slide_type": "subslide"
    }
   },
   "source": [
    "<img src=\"./images/io2portal/Screen Shot 2021-12-09 at 17.01.13.png\" class=\"io-image\"/>"
   ]
  },
  {
   "cell_type": "markdown",
   "id": "836b1ea9",
   "metadata": {
    "slideshow": {
     "slide_type": "subslide"
    }
   },
   "source": [
    "<img src=\"./images/io2portal/Screen Shot 2021-12-09 at 17.01.46.png\" class=\"io-image\"/>"
   ]
  },
  {
   "cell_type": "markdown",
   "id": "4d5d144d",
   "metadata": {
    "slideshow": {
     "slide_type": "subslide"
    }
   },
   "source": [
    "<img src=\"./images/io2portal/Screen Shot 2021-12-09 at 17.02.37.png\" class=\"io-image\"/>"
   ]
  },
  {
   "cell_type": "markdown",
   "id": "3f2ae218",
   "metadata": {
    "slideshow": {
     "slide_type": "slide"
    }
   },
   "source": [
    "<h3 align=\"center\">Data Visualization Application</h3>\n",
    "<img src=\"./images/io2portal/Screen Shot 2021-12-09 at 17.04.33.png\" class=\"io-image\"/>"
   ]
  },
  {
   "cell_type": "markdown",
   "id": "f76c51ea",
   "metadata": {
    "slideshow": {
     "slide_type": "subslide"
    }
   },
   "source": [
    "<img src=\"./images/io2portal/Screen Shot 2021-12-09 at 17.05.43.png\" class=\"io-image\"/>"
   ]
  },
  {
   "cell_type": "markdown",
   "id": "bce0e425",
   "metadata": {
    "slideshow": {
     "slide_type": "slide"
    }
   },
   "source": [
    "<h1><center>Educational Use Examples</center></h1>"
   ]
  },
  {
   "cell_type": "markdown",
   "id": "8cd3e151",
   "metadata": {
    "slideshow": {
     "slide_type": "slide"
    }
   },
   "source": [
    "<img src=\"./images/io2portal/Screen Shot 2021-12-10 at 10.09.11.png\" class=\"io-image\"/>"
   ]
  },
  {
   "cell_type": "markdown",
   "id": "0e73af01",
   "metadata": {
    "slideshow": {
     "slide_type": "slide"
    }
   },
   "source": [
    "<img src=\"./images/io2portal/Screen Shot 2021-12-10 at 13.40.17.png\" class=\"io-image\"/>"
   ]
  },
  {
   "cell_type": "markdown",
   "id": "3b563cd8",
   "metadata": {
    "slideshow": {
     "slide_type": "slide"
    }
   },
   "source": [
    "<h3 align=\"center\">Instrument Information Page *NEW*</h3>\n",
    "<img src=\"./images/io2portal/Screen Shot 2021-12-10 at 15.46.04.png\" class=\"io-image\"/>"
   ]
  },
  {
   "cell_type": "markdown",
   "id": "b84f9130",
   "metadata": {
    "slideshow": {
     "slide_type": "subslide"
    }
   },
   "source": [
    "### Python Direct Access to data\n",
    "\n",
    "Take the Data Location of stream, plug it into xarray and zarr, voila!"
   ]
  },
  {
   "cell_type": "code",
   "execution_count": 1,
   "id": "f4c429c1",
   "metadata": {
    "slideshow": {
     "slide_type": "subslide"
    }
   },
   "outputs": [
    {
     "name": "stdout",
     "output_type": "stream",
     "text": [
      "Software versions\n",
      "=================\n",
      "fsspec: 2021.10.1\n",
      "s3fs: 2021.10.1\n",
      "xarray: 0.20.2\n",
      "zarr: 2.10.3\n"
     ]
    }
   ],
   "source": [
    "from datetime import datetime\n",
    "import xarray as xr\n",
    "import fsspec\n",
    "import s3fs\n",
    "import zarr\n",
    "\n",
    "print(\"Software versions\")\n",
    "print(\"=================\")\n",
    "print(\"fsspec:\", fsspec.__version__)\n",
    "print(\"s3fs:\", s3fs.__version__)\n",
    "print(\"xarray:\", xr.__version__)\n",
    "print(\"zarr:\", zarr.__version__)"
   ]
  },
  {
   "cell_type": "code",
   "execution_count": 2,
   "id": "22f9d6b4",
   "metadata": {
    "slideshow": {
     "slide_type": "subslide"
    }
   },
   "outputs": [
    {
     "data": {
      "text/plain": [
       "<matplotlib.collections.PathCollection at 0x7f88115263d0>"
      ]
     },
     "execution_count": 2,
     "metadata": {},
     "output_type": "execute_result"
    },
    {
     "data": {
      "image/png": "[encoded data removed]",
      "text/plain": [
       "<Figure size 432x288 with 1 Axes>"
      ]
     },
     "metadata": {
      "needs_background": "light"
     },
     "output_type": "display_data"
    }
   ],
   "source": [
    "# Open data\n",
    "data_location = \"s3://ooi-data/RS03AXPS-SF03A-4F-PCO2WA301-streamed-pco2w_a_sami_data_record\"\n",
    "store = fsspec.get_mapper(data_location, anon=True)\n",
    "dataset = xr.open_dataset(store, engine='zarr', backend_kwargs={'consolidated': True})\n",
    "\n",
    "# Plot time vs pco2\n",
    "dataset.plot.scatter(x='time', y='pco2_seawater')"
   ]
  },
  {
   "cell_type": "markdown",
   "id": "07d713a1",
   "metadata": {
    "slideshow": {
     "slide_type": "slide"
    }
   },
   "source": [
    "### What's next?\n",
    "\n",
    "- Keep improving portal for multiple dimensions data support.\n",
    "- Provide real time data visualization."
   ]
  },
  {
   "cell_type": "markdown",
   "id": "38e0e1bf",
   "metadata": {},
   "source": [
    "Thank you!"
   ]
  }
 ],
 "metadata": {
  "celltoolbar": "Slideshow",
  "kernelspec": {
   "display_name": "Python 3 (ipykernel)",
   "language": "python",
   "name": "python3"
  },
  "language_info": {
   "codemirror_mode": {
    "name": "ipython",
    "version": 3
   },
   "file_extension": ".py",
   "mimetype": "text/x-python",
   "name": "python",
   "nbconvert_exporter": "python",
   "pygments_lexer": "ipython3",
   "version": "3.8.12"
  },
  "rise": {
   "autolaunch": true,
   "scroll": true,
   "start_slideshow_at": "beginning"
  }
 },
 "nbformat": 4,
 "nbformat_minor": 5
}
